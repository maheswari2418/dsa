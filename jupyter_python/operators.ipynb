{
 "cells": [
  {
   "cell_type": "code",
   "execution_count": 28,
   "metadata": {},
   "outputs": [
    {
     "name": "stdout",
     "output_type": "stream",
     "text": [
      "sum: 15\n",
      "multi: 50\n",
      "division: 5\n",
      "and: 10\n",
      "or: 5\n",
      "not: False\n",
      "f: 0\n",
      "note: True\n",
      "equalto: False\n",
      "less: True\n",
      "great: False\n",
      "le: True\n",
      "band: 0\n",
      "bor: 15\n",
      "xor: 15\n",
      "lshift: 5120\n",
      "rshift: 0\n",
      "neg: -6\n",
      "assp: 5\n",
      "assm: 10\n",
      "mem: True\n",
      "or: True\n"
     ]
    }
   ],
   "source": [
    "a=3\n",
    "b=2\n",
    "a+=b\n",
    "b*=a\n",
    "x='hello'\n",
    "print('sum:',a+b)\n",
    "print('multi:',a*b)\n",
    "print('division:',a%b)\n",
    "print('and:',a and b)\n",
    "print('or:',a or b)\n",
    "print('not:',not b)\n",
    "print('f:',a // b)\n",
    "print('note:',a != b)\n",
    "print('equalto:',a == b)\n",
    "print('less:',a < b)\n",
    "print('great:',a > b)\n",
    "print('le:',a <= b)\n",
    "print('band:',a & b)\n",
    "print('bor:',a | b)\n",
    "print('xor:',a ^ b)\n",
    "print('lshift:',a << b)\n",
    "print('rshift:',a >> b)\n",
    "print('neg:', ~ a)\n",
    "print('assp:',a)\n",
    "print('assm:', b)\n",
    "print('mem:','h' in x )\n",
    "print('memno:','a' not in x)"
   ]
  },
  {
   "cell_type": "code",
   "execution_count": null,
   "metadata": {},
   "outputs": [],
   "source": []
  },
  {
   "cell_type": "code",
   "execution_count": null,
   "metadata": {},
   "outputs": [],
   "source": []
  }
 ],
 "metadata": {
  "kernelspec": {
   "display_name": "Python 3",
   "language": "python",
   "name": "python3"
  },
  "language_info": {
   "codemirror_mode": {
    "name": "ipython",
    "version": 3
   },
   "file_extension": ".py",
   "mimetype": "text/x-python",
   "name": "python",
   "nbconvert_exporter": "python",
   "pygments_lexer": "ipython3",
   "version": "3.8.10"
  }
 },
 "nbformat": 4,
 "nbformat_minor": 4
}
