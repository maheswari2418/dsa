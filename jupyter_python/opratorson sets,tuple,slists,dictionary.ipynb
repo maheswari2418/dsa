{
 "cells": [
  {
   "cell_type": "code",
   "execution_count": null,
   "metadata": {},
   "outputs": [],
   "source": [
    "n=int(input(\"enter number\"))\n",
    "if n%2==0:\n",
    "    print(\"even\")\n",
    "else:\n",
    "    print(\"odd\")"
   ]
  },
  {
   "cell_type": "code",
   "execution_count": 53,
   "metadata": {},
   "outputs": [
    {
     "name": "stdout",
     "output_type": "stream",
     "text": [
      "5\n",
      "6\n",
      "1.5\n",
      "1\n",
      "1\n",
      "1\n",
      "9\n",
      "False\n",
      "True\n",
      "re False\n",
      "rne True\n",
      "rle False\n",
      "re True\n",
      "and 2\n",
      "rle 3\n",
      "lognot False\n",
      "True\n",
      "False\n",
      "band 2\n",
      "bor 3\n",
      "bnot 1\n",
      "rg -4\n",
      "rl 12\n",
      "re 0\n",
      "rne True\n",
      "rle False\n",
      "as 3\n",
      "ass 2\n",
      "rl False\n",
      "mem False\n",
      "me False\n",
      "un -10\n"
     ]
    }
   ],
   "source": [
    "a=3\n",
    "b=2\n",
    "\n",
    "x='hello'\n",
    "c=-10\n",
    "print(a+b)\n",
    "print(a*b)\n",
    "print(a/b)\n",
    "print(a-b)\n",
    "print(a%b)\n",
    "print(a//b)\n",
    "print(a**b)\n",
    "print(a == b)\n",
    "print(a != b)\n",
    "print(\"re\",a<b)\n",
    "print(\"rne\",a>b)\n",
    "print(\"rle\",a<=b)\n",
    "print(\"re\",a>=b)\n",
    "print(\"and\",a and b)\n",
    "print(\"rle\",a or b)\n",
    "print(\"lognot\",not a)\n",
    "print('h' in x)\n",
    "print('h'  not in x)\n",
    "\n",
    "print(\"band\",a&b)\n",
    "print(\"bor\",a|b)\n",
    "print(\"bnot\",a^b)\n",
    "print(\"rg\",~a)\n",
    "print(\"rl\",a<<b)\n",
    "print(\"re\",a>>b)\n",
    "\n",
    "print(\"rne\",a!=b)\n",
    "print(\"rle\",a<=b)\n",
    "print(\"as\",a)\n",
    "print(\"ass\",b)\n",
    "print(\"rl\",a<b)\n",
    "print(\"mem\",'a' in x)\n",
    "print(\"me\",'h' not in x)\n",
    "print(\"un\",c)\n",
    "\n"
   ]
  },
  {
   "cell_type": "code",
   "execution_count": 55,
   "metadata": {},
   "outputs": [
    {
     "name": "stdout",
     "output_type": "stream",
     "text": [
      "['data', 10, 5, 'k', 7, 3, 8, 1]\n"
     ]
    },
    {
     "ename": "TypeError",
     "evalue": "'builtin_function_or_method' object is not subscriptable",
     "output_type": "error",
     "traceback": [
      "\u001b[0;31m---------------------------------------------------------------------------\u001b[0m",
      "\u001b[0;31mTypeError\u001b[0m                                 Traceback (most recent call last)",
      "\u001b[0;32m<ipython-input-55-111bc79ee391>\u001b[0m in \u001b[0;36m<module>\u001b[0;34m\u001b[0m\n\u001b[1;32m      2\u001b[0m \u001b[0ml1\u001b[0m\u001b[0;34m=\u001b[0m\u001b[0;34m[\u001b[0m\u001b[0;34m'data'\u001b[0m\u001b[0;34m,\u001b[0m\u001b[0;36m10\u001b[0m\u001b[0;34m,\u001b[0m\u001b[0;36m5\u001b[0m\u001b[0;34m,\u001b[0m\u001b[0;34m'k'\u001b[0m\u001b[0;34m]\u001b[0m\u001b[0;34m\u001b[0m\u001b[0;34m\u001b[0m\u001b[0m\n\u001b[1;32m      3\u001b[0m \u001b[0mprint\u001b[0m\u001b[0;34m(\u001b[0m\u001b[0ml1\u001b[0m\u001b[0;34m+\u001b[0m\u001b[0ml2\u001b[0m\u001b[0;34m)\u001b[0m\u001b[0;34m\u001b[0m\u001b[0;34m\u001b[0m\u001b[0m\n\u001b[0;32m----> 4\u001b[0;31m \u001b[0mprint\u001b[0m\u001b[0;34m(\u001b[0m\u001b[0msum\u001b[0m\u001b[0;34m[\u001b[0m\u001b[0ml2\u001b[0m\u001b[0;34m]\u001b[0m\u001b[0;34m)\u001b[0m\u001b[0;34m\u001b[0m\u001b[0;34m\u001b[0m\u001b[0m\n\u001b[0m\u001b[1;32m      5\u001b[0m \u001b[0mlist1\u001b[0m\u001b[0;34m=\u001b[0m\u001b[0mlist3\u001b[0m\u001b[0;34m+\u001b[0m\u001b[0mlist1\u001b[0m\u001b[0;34m\u001b[0m\u001b[0;34m\u001b[0m\u001b[0m\n\u001b[1;32m      6\u001b[0m \u001b[0;31m#print(any[l2])\u001b[0m\u001b[0;34m\u001b[0m\u001b[0;34m\u001b[0m\u001b[0;34m\u001b[0m\u001b[0m\n",
      "\u001b[0;31mTypeError\u001b[0m: 'builtin_function_or_method' object is not subscriptable"
     ]
    }
   ],
   "source": [
    "l2=[7,3,8,1]\n",
    "l1=['data',10,5,'k']\n",
    "print(l1+l2)\n",
    "print(sum[l2])\n",
    "list1=list3+list1\n",
    "#print(any[l2])\n",
    "list3=list1*3\n",
    "print(max[l2])\n",
    "print(len[l2])\n",
    "print('a' in l1)\n",
    "print(l1*2)\n",
    "#min(list)\n",
    "#print(min(list))\n",
    "#print(\"lst\",'h' not in list)\n",
    "\n",
    "#print(sorted(list))\n",
    "#list1.pop(3)\n",
    "print(list1)\n",
    "list1.remove(\"data\")\n",
    "print(list1)\n",
    "list1.append(\"science\")\n",
    "print(list1)\n",
    "print(list1[-1])\n",
    "print(list1[:2])\n",
    "list1.extend(list3)\n",
    "print(list1)\n",
    "list1[3]='g'\n",
    "print(list1)\n",
    "list4=sorted(list3)\n",
    "print(list4)\n",
    "#sort(list1)\n",
    "#print(list1)"
   ]
  },
  {
   "cell_type": "code",
   "execution_count": 29,
   "metadata": {},
   "outputs": [
    {
     "name": "stdout",
     "output_type": "stream",
     "text": [
      "7\n",
      "(1, 2, 3, 6, 7, 8, 9, 'tup', 2.3, 5, True)\n",
      "2\n",
      "True\n",
      "(True, 5, 2.3, 'tup', 9, 8, 7, 6, 3, 2, 1)\n",
      "True\n",
      "('tup', 2.3, 5, True)\n"
     ]
    }
   ],
   "source": [
    "tuple2=(1,2,3,6,7,8,9)\n",
    "tuple1=('tup',2.3,5,True)\n",
    "tuple1[:4]\n",
    "len(tuple2)\n",
    "print(len(tuple2))\n",
    "tuple=tuple2+tuple1\n",
    "print(tuple)\n",
    "#max(tuple1)\n",
    "print(tuple[1])\n",
    "print(tuple[-1])\n",
    "print(tuple[::-1])\n",
    "print('tup'  in tuple)\n",
    "#tuple1.append(\"tuple2\")\n",
    "print(tuple1)\n",
    "#res=max(tuple)\n",
    "#print(max(tuple))"
   ]
  },
  {
   "cell_type": "code",
   "execution_count": 18,
   "metadata": {},
   "outputs": [
    {
     "name": "stdout",
     "output_type": "stream",
     "text": [
      "<class 'str'>\n"
     ]
    },
    {
     "ename": "TypeError",
     "evalue": "must be str, not int",
     "output_type": "error",
     "traceback": [
      "\u001b[0;31m---------------------------------------------------------------------------\u001b[0m",
      "\u001b[0;31mTypeError\u001b[0m                                 Traceback (most recent call last)",
      "\u001b[0;32m<ipython-input-18-c7ecb885835d>\u001b[0m in \u001b[0;36m<module>\u001b[0;34m\u001b[0m\n\u001b[1;32m     17\u001b[0m \u001b[0;31m#print(len(str))\u001b[0m\u001b[0;34m\u001b[0m\u001b[0;34m\u001b[0m\u001b[0;34m\u001b[0m\u001b[0m\n\u001b[1;32m     18\u001b[0m \u001b[0;31m#print('a' in str)\u001b[0m\u001b[0;34m\u001b[0m\u001b[0;34m\u001b[0m\u001b[0;34m\u001b[0m\u001b[0m\n\u001b[0;32m---> 19\u001b[0;31m \u001b[0mprint\u001b[0m\u001b[0;34m(\u001b[0m\u001b[0mstr\u001b[0m\u001b[0;34m.\u001b[0m\u001b[0mfind\u001b[0m\u001b[0;34m(\u001b[0m\u001b[0;34m\"hii\"\u001b[0m\u001b[0;34m,\u001b[0m\u001b[0;36m1\u001b[0m\u001b[0;34m)\u001b[0m\u001b[0;34m)\u001b[0m\u001b[0;34m\u001b[0m\u001b[0;34m\u001b[0m\u001b[0m\n\u001b[0m\u001b[1;32m     20\u001b[0m \u001b[0;31m#print(str.count('world',))\u001b[0m\u001b[0;34m\u001b[0m\u001b[0;34m\u001b[0m\u001b[0;34m\u001b[0m\u001b[0m\n\u001b[1;32m     21\u001b[0m \u001b[0;31m#print(max(str1))\u001b[0m\u001b[0;34m\u001b[0m\u001b[0;34m\u001b[0m\u001b[0;34m\u001b[0m\u001b[0m\n",
      "\u001b[0;31mTypeError\u001b[0m: must be str, not int"
     ]
    }
   ],
   "source": [
    "str1=\"hello world\"\n",
    "str2=\"welcome to\"\n",
    "#str[1:4]\n",
    "#print(str[1:4])\n",
    "#print(str[1:6:2])\n",
    "#str=str2+str1\n",
    "print(str)\n",
    "#str.append(\"hii\")\n",
    "#print(str.replace(\"hello\",\"hii\"))\n",
    "#print(str.upper())\n",
    "#str.append(\"hdh\")\n",
    "#print(str)\n",
    "#print(str.pop(str))\n",
    "#print(str1==str)\n",
    "#for letter in str1:\n",
    "    #print(letter)\n",
    "#print(len(str))\n",
    "#print('a' in str)\n",
    "print(str.find(\"hii\",1rfv ]\n",
    "              ))\n",
    "#print(str.count('world',))\n",
    "#print(max(str1))\n",
    "#res=str.index('to')\n",
    "#print(res)\n"
   ]
  },
  {
   "cell_type": "code",
   "execution_count": 5,
   "metadata": {},
   "outputs": [
    {
     "name": "stdout",
     "output_type": "stream",
     "text": [
      "{1, 2, 3, 4, 5, 'helo', 4.5, 8, 20}\n",
      "None\n",
      "8\n",
      "{'helo', 2, 3, 4, 5, 4.5, True, 8, 20}\n",
      "{'helo', 2, 3, 4, 5, 4.5, True, 8, 20}\n",
      "{'helo', 20, 4.5}\n",
      "{2, 3, 4, 5, 8}\n",
      "False\n",
      "{2, 3, 4, 5, 'helo', 4.5, 8, 'gs', 20}\n"
     ]
    }
   ],
   "source": [
    "set={1,2,3,4,5,8}\n",
    "set2={'helo',20,4.5,True}\n",
    "set.update(set2)\n",
    "print(set)\n",
    "res=set.discard(True)\n",
    "print(res)\n",
    "print(len(set))\n",
    "print(set|set2)\n",
    "print(set.union(set2))\n",
    "print(set&set2)\n",
    "print(set-set2)\n",
    "print(set==set2)\n",
    "set.add(\"gs\")\n",
    "print(set)\n"
   ]
  },
  {
   "cell_type": "code",
   "execution_count": 31,
   "metadata": {},
   "outputs": [
    {
     "name": "stdout",
     "output_type": "stream",
     "text": [
      "{111: 'item', 'price': '100'}\n",
      "{111: 'item', 'price': '100', 'japan': 'tokyo'}\n",
      "2\n",
      "True\n",
      "True\n",
      "['japan', 'price']\n",
      "dict_keys(['price', 'japan'])\n"
     ]
    }
   ],
   "source": [
    "dict={111:\"item\",\"price\":\"100\"}\n",
    "print(dict)\n",
    "dict[\"japan\"]=\"tokyo\"\n",
    "print(dict)\n",
    "del dict[111]\n",
    "print(len(dict))\n",
    "res=all(dict)\n",
    "print(res)\n",
    "r=any(dict)\n",
    "print(r)\n",
    "s=sorted(dict)\n",
    "print(s)\n",
    "dk=dict.keys()\n",
    "print(dk)\n"
   ]
  },
  {
   "cell_type": "code",
   "execution_count": null,
   "metadata": {},
   "outputs": [],
   "source": [
    "n=int(input(\"enter number\"))\n",
    "sum=0\n",
    "for i in range(1,n):\n",
    "    \n",
    " sum=sum+i\n",
    " n=n-1\n",
    "print(sum)"
   ]
  },
  {
   "cell_type": "code",
   "execution_count": 1,
   "metadata": {},
   "outputs": [
    {
     "name": "stdout",
     "output_type": "stream",
     "text": [
      "enter number23\n",
      "253\n"
     ]
    }
   ],
   "source": [
    "n=int(input(\"enter number\"))\n",
    "sum=0\n",
    "for i in range(1,n):\n",
    "    \n",
    " sum=sum+i\n",
    " n=n-1\n",
    "print(sum)"
   ]
  },
  {
   "cell_type": "code",
   "execution_count": 1,
   "metadata": {},
   "outputs": [
    {
     "name": "stdout",
     "output_type": "stream",
     "text": [
      "enter number10\n",
      "100\n"
     ]
    }
   ],
   "source": [
    "n=int(input(\"enter number\"))\n",
    "for i in range(0,n+1):\n",
    " i1=i*i\n",
    "print(i1)"
   ]
  },
  {
   "cell_type": "code",
   "execution_count": 45,
   "metadata": {},
   "outputs": [
    {
     "name": "stdout",
     "output_type": "stream",
     "text": [
      "data science with python\n",
      "hello python\n",
      "data science \n",
      " with python\n",
      "data science with pythonhello python\n",
      "hello pythonhello pythonhello python\n",
      "True\n",
      "False\n",
      "12\n",
      "0\n",
      "6\n",
      "6\n",
      "False\n",
      "False\n",
      "False\n",
      "data science wt python\n",
      "data science with python\n",
      "HELLO PYTHON\n",
      "HELLO PYTHON\n",
      "Hello World\n",
      "Hello python\n",
      "True\n",
      "False\n",
      "False\n",
      "False\n",
      "IIIT------\n",
      "-------IIT\n",
      "('hello world', '', '')\n",
      "['hello world']\n"
     ]
    }
   ],
   "source": [
    "str1='data science with python'\n",
    "str2='hello python'\n",
    "print(str1)\n",
    "print(str2)\n",
    "print(str1[:13])\n",
    "print(str1[12:])\n",
    "print(str1+str2)\n",
    "print(str2 *3)\n",
    "print('data' in str1)\n",
    "print('s' not in str1)\n",
    "print(len(str2))\n",
    "print(str2.count('data',5,12))\n",
    "print(str2.find('python',5,20))\n",
    "print(str2.rfind('python'))\n",
    "print(str2.startswith('hii',1))\n",
    "print(str2.startswith('hii',1))\n",
    "print(str2.endswith('pro',5,7))\n",
    "print(str1.replace('with','wt',12))\n",
    "print(str1.lower())\n",
    "str3='hello world'\n",
    "print(str2.upper())\n",
    "print(str2.swapcase())\n",
    "print(str3.title())\n",
    "print(str2.capitalize())\n",
    "print('python'.islower())\n",
    "print('python'.isupper())\n",
    "print(str3.isalpha())\n",
    "print(str2.isspace())\n",
    "print('IIIT'.ljust(10,'-'))\n",
    "print('IIT'.rjust(10,'-'))\n",
    "print(str3.partition('python'))\n",
    "print(str3.split('python'))"
   ]
  },
  {
   "cell_type": "code",
   "execution_count": 65,
   "metadata": {},
   "outputs": [
    {
     "name": "stdout",
     "output_type": "stream",
     "text": [
      "['data', 10, 5, 'k', 7, 3, 8, 1]\n",
      "19\n",
      "True\n",
      "8\n",
      "4\n",
      "False\n",
      "['data', 10, 5, 'k', 'data', 10, 5, 'k']\n",
      "[1, 2, 3, 4, 5, 6, 7, 8, 76]\n",
      "['d', 'k', 'm']\n",
      "[1, 2, 3, 5, 6, 7, 8, 76]\n",
      "[1, 2, 3, 's', 5, 6, 7, 8, 76]\n",
      "['d', 'k', 'm']\n",
      "[76, 8, 7, 6, 5, 's', 3, 2, 1]\n",
      "[76, 8, 7, 6, 5, 's', 3, 2, 1, 2, 4]\n",
      "['d', 'k', 'm']\n",
      "['d', 'k', 'm']\n"
     ]
    }
   ],
   "source": [
    "l2=[7,3,8,1]\n",
    "l1=['data',10,5,'k']\n",
    "print(l1+l2)\n",
    "print(sum(l2))\n",
    "\n",
    "print(any(l2))\n",
    "\n",
    "print(max(l2))\n",
    "print(len(l2))\n",
    "print('a' in l1)\n",
    "print(l1*2)\n",
    "list2=[1,2,3,4,5,6,7,8]\n",
    "list3=['d','k','m','s']\n",
    "\n",
    "list2.append(76)\n",
    "print(list2)\n",
    "list3.remove('s')\n",
    "print(list3)\n",
    "list2.pop(3)\n",
    "print(list2)\n",
    "list2.insert(3,'s')\n",
    "print(list2)\n",
    "list3.count('d')\n",
    "print(list3)\n",
    "list2.reverse()\n",
    "print(list2)\n",
    "list2.extend([2,4])\n",
    "print(list2)\n",
    "list3.index('d')\n",
    "print(list3)\n",
    "list3.sort()\n",
    "print(list3)\n",
    "#sort(list1)\n",
    "#print(list1)"
   ]
  },
  {
   "cell_type": "code",
   "execution_count": 78,
   "metadata": {},
   "outputs": [
    {
     "name": "stdout",
     "output_type": "stream",
     "text": [
      "4\n",
      "('s', 'v', 'k', 'a', 7, 18, 1, 45, 11, 50)\n",
      "('s', 'v', 'k', 'a', 's', 'v', 'k', 'a', 's', 'v', 'k', 'a')\n",
      "False\n",
      "v\n",
      "a\n",
      "False\n",
      "True\n",
      "False\n",
      "s\n",
      "v\n",
      "k\n",
      "a\n",
      "not equal\n"
     ]
    }
   ],
   "source": [
    "tuple1=(7,18,1,45,11,50)\n",
    "t1=('s','v','k','a')\n",
    "t2=(1,4,5,7)\n",
    "print(len(t1))\n",
    "print(t1+tuple1)\n",
    "print(t1*3)\n",
    "#print('s' in tuple1)\n",
    "print('v' not in t1)\n",
    "print(max(t1))\n",
    "print(min(t1))\n",
    "print(tuple1<t2)\n",
    "print(tuple1>t2)\n",
    "print(tuple1==t2)\n",
    "for item in t1:\n",
    "  print(item)\n",
    "if(t1!=tuple1):\n",
    "  print('not equal')\n",
    "else:\n",
    " print('equal')"
   ]
  },
  {
   "cell_type": "code",
   "execution_count": 88,
   "metadata": {},
   "outputs": [
    {
     "name": "stdout",
     "output_type": "stream",
     "text": [
      "{'cherry', 'guava', 'banana'}\n",
      "{1, 2, 4}\n",
      "{'guava', 4, 5, 6, 'cherry', 'banana'}\n",
      "{'guava', 'pine', 4, 5, 6, 'cherry', 'banana'}\n",
      "3\n",
      "False\n",
      "True\n",
      "{'guava', 'pine', 1, 4, 5, 6, 2, 'cherry', 'banana'}\n",
      "{4}\n",
      "{'guava', 'pine', 5, 6, 'cherry', 'banana'}\n",
      "False\n",
      "True\n",
      "True\n",
      "set()\n"
     ]
    }
   ],
   "source": [
    "s1={'apple','banana','cherry','guava'}\n",
    "s2={1,2,3,4}\n",
    "s1.pop()\n",
    "print(s1)\n",
    "s2.remove(3)\n",
    "print(s2)\n",
    "s1.update([4,5,6])\n",
    "print(s1)\n",
    "s1.add('pine')\n",
    "print(s1)\n",
    "print(len(s2))\n",
    "print('apple' in s1)\n",
    "print('t' not in s2)\n",
    "print(s1.union(s2))\n",
    "print(s1&s2)\n",
    "print(s1-s2)\n",
    "print(s1==s2)\n",
    "a={5,6,7,8}\n",
    "b={5,6,7,8,9,1}\n",
    "\n",
    "print(a.issubset(b))\n",
    "print(b.issuperset(a))\n",
    "s1.clear()\n",
    "print(s1)"
   ]
  },
  {
   "cell_type": "code",
   "execution_count": null,
   "metadata": {},
   "outputs": [],
   "source": []
  }
 ],
 "metadata": {
  "kernelspec": {
   "display_name": "Python 3",
   "language": "python",
   "name": "python3"
  },
  "language_info": {
   "codemirror_mode": {
    "name": "ipython",
    "version": 3
   },
   "file_extension": ".py",
   "mimetype": "text/x-python",
   "name": "python",
   "nbconvert_exporter": "python",
   "pygments_lexer": "ipython3",
   "version": "3.8.10"
  }
 },
 "nbformat": 4,
 "nbformat_minor": 4
}
