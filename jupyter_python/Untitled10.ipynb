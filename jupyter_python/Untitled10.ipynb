{
 "cells": [
  {
   "cell_type": "code",
   "execution_count": 21,
   "metadata": {},
   "outputs": [
    {
     "name": "stdout",
     "output_type": "stream",
     "text": [
      "LISHITHA BALARAJU\n"
     ]
    }
   ],
   "source": [
    "#readline\n",
    "file=open(\"/home/rguktongole/nan.txt\",'r')\n",
    "print(file.readline())\n",
    "\n"
   ]
  },
  {
   "cell_type": "code",
   "execution_count": 19,
   "metadata": {},
   "outputs": [
    {
     "name": "stdout",
     "output_type": "stream",
     "text": [
      "LISHITHA BALARAJU\n"
     ]
    }
   ],
   "source": [
    "#read\n",
    "file=open(\"/home/rguktongole/nan.txt\",'r')\n",
    "print(file.read())\n"
   ]
  },
  {
   "cell_type": "code",
   "execution_count": 18,
   "metadata": {},
   "outputs": [
    {
     "name": "stdout",
     "output_type": "stream",
     "text": [
      "['LISHITHA BALARAJU']\n"
     ]
    }
   ],
   "source": [
    "#readlines\n",
    "file=open(\"/home/rguktongole/nan.txt\",'r')\n",
    "print(file.readlines())\n",
    "\n"
   ]
  },
  {
   "cell_type": "code",
   "execution_count": 17,
   "metadata": {},
   "outputs": [
    {
     "name": "stdout",
     "output_type": "stream",
     "text": [
      "<_io.TextIOWrapper name='/home/rguktongole/nan.txt' mode='r' encoding='UTF-8'>\n",
      "LISHITHA BALARAJU\n"
     ]
    }
   ],
   "source": [
    "file=open(\"/home/rguktongole/nan.txt\",'r')\n",
    "print(file)\n",
    "print(file.read())\n"
   ]
  },
  {
   "cell_type": "code",
   "execution_count": 39,
   "metadata": {},
   "outputs": [
    {
     "name": "stdout",
     "output_type": "stream",
     "text": [
      "['NANDINI GOBBURI']\n"
     ]
    }
   ],
   "source": [
    "# file=open('/home/rguktongole/nanddi.txt','x')\n",
    "\n",
    "# file=open('/home/rguktongole/nandii.txt','r')\n",
    "# print(file.read())\n",
    "\n",
    "\n",
    "file=open('/home/rguktongole/nandii.txt','w+')\n",
    "file.write('NANDINI GOBBURI')\n",
    "print(file.readlines())\n"
   ]
  },
  {
   "cell_type": "code",
   "execution_count": 48,
   "metadata": {},
   "outputs": [
    {
     "name": "stdout",
     "output_type": "stream",
     "text": [
      "  names  grads\n",
      "0     a      1\n",
      "1     b      2\n",
      "2     c      3\n",
      "3     d      4\n",
      "0    0-2\n",
      "1    0-2\n",
      "2    2-4\n",
      "3    2-4\n",
      "Name: grads, dtype: category\n",
      "Categories (2, object): ['0-2' < '2-4']\n",
      "0    0-1\n",
      "1    1-2\n",
      "2    2-3\n",
      "3    3-4\n",
      "Name: grads, dtype: category\n",
      "Categories (4, object): ['0-1' < '1-2' < '2-3' < '3-4']\n"
     ]
    }
   ],
   "source": [
    "#binning \n",
    "import pandas as pd\n",
    "g=[1,2,3,4]\n",
    "n=['a','b','c','d']\n",
    "df=pd.DataFrame({'names':n,'grads':g})\n",
    "print(df)\n",
    "cut=pd.cut(df.grads,bins=[0,2,4],labels=[\"0-2\",\"2-4\"])\n",
    "print(cut)\n",
    "qcut=df[\"grads_range\"]=pd.qcut(df.grads,q=4,labels=[\"0-1\",\"1-2\",\"2-3\",\"3-4\"])\n",
    "print(qcut)"
   ]
  },
  {
   "cell_type": "code",
   "execution_count": null,
   "metadata": {},
   "outputs": [],
   "source": []
  }
 ],
 "metadata": {
  "kernelspec": {
   "display_name": "Python 3",
   "language": "python",
   "name": "python3"
  },
  "language_info": {
   "codemirror_mode": {
    "name": "ipython",
    "version": 3
   },
   "file_extension": ".py",
   "mimetype": "text/x-python",
   "name": "python",
   "nbconvert_exporter": "python",
   "pygments_lexer": "ipython3",
   "version": "3.8.10"
  }
 },
 "nbformat": 4,
 "nbformat_minor": 4
}
