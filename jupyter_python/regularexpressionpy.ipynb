{
 "cells": [
  {
   "cell_type": "code",
   "execution_count": 1,
   "metadata": {},
   "outputs": [
    {
     "name": "stdout",
     "output_type": "stream",
     "text": [
      "match found\n"
     ]
    }
   ],
   "source": [
    "import re\n",
    "string=\"data science with python\"\n",
    "pattern=\"data\"\n",
    "if re.search(pattern,string):\n",
    "  print(\"match found\")\n",
    "else:\n",
    "    print(\"match not found\")"
   ]
  },
  {
   "cell_type": "code",
   "execution_count": 3,
   "metadata": {},
   "outputs": [
    {
     "name": "stdout",
     "output_type": "stream",
     "text": [
      "match not found\n"
     ]
    }
   ],
   "source": [
    "import re\n",
    "string=\"data science with python\"\n",
    "pattern=\"python\"\n",
    "if re.match(pattern,string):\n",
    "  print(\"match found\")\n",
    "else:\n",
    "    print(\"match not found\")"
   ]
  },
  {
   "cell_type": "code",
   "execution_count": 13,
   "metadata": {},
   "outputs": [],
   "source": [
    "import re\n",
    "pattern=\"r*[a-zA-Z]+ \\d+\"\n",
    "match=re.findall(pattern,\"ravi-2019,rohan-2009,ram-2021,one of the births\")\n",
    "for i in match:\n",
    "    print(i,end=\"\")"
   ]
  },
  {
   "cell_type": "code",
   "execution_count": 15,
   "metadata": {},
   "outputs": [
    {
     "name": "stdout",
     "output_type": "stream",
     "text": [
      "ravi-2019 rohan-2009 ram-2021 "
     ]
    }
   ],
   "source": [
    "import re\n",
    "pattern=\"r*[a-zA-Z]+-\\d+\"\n",
    "match=re.findall(pattern,\"ravi-2019,rohan-2009,ram-2021,one of the births\")\n",
    "for i in match:\n",
    "    print(i,end=\" \")"
   ]
  },
  {
   "cell_type": "code",
   "execution_count": 24,
   "metadata": {},
   "outputs": [
    {
     "name": "stdout",
     "output_type": "stream",
     "text": [
      "the data science  with java,java is user friendly language,java is also object orinted\n"
     ]
    }
   ],
   "source": [
    "import re\n",
    "string=\"the data science  with python,python is user friendly language,python is also object orinted\"\n",
    "pattern=\"python\"\n",
    "repl=\"java\"\n",
    "new=re.sub(pattern,repl,string,7)\n",
    "print(new)"
   ]
  },
  {
   "cell_type": "code",
   "execution_count": 22,
   "metadata": {},
   "outputs": [
    {
     "name": "stdout",
     "output_type": "stream",
     "text": [
      "[]\n",
      "No match\n"
     ]
    }
   ],
   "source": [
    "import re\n",
    "txt = \"The rain in Spain\"\n",
    "#Check if the string contains any digits (numbers from 0-9):\n",
    "x = re.findall(\"\\d\", txt)\n",
    "print(x)\n",
    "if x:\n",
    " print(\"Yes, there is at least one match!\")\n",
    "else:\n",
    " print(\"No match\")\n"
   ]
  },
  {
   "cell_type": "code",
   "execution_count": null,
   "metadata": {},
   "outputs": [],
   "source": []
  },
  {
   "cell_type": "code",
   "execution_count": 29,
   "metadata": {},
   "outputs": [
    {
     "name": "stdout",
     "output_type": "stream",
     "text": [
      "['the data science  with ', ',', ' is user friendly language,', ' is also object orinted']\n"
     ]
    }
   ],
   "source": [
    "import re\n",
    "string=\"the data science  with python,python is user friendly language,python is also object orinted\"\n",
    "pattern=\"python\"\n",
    "#repl=\"java\"\n",
    "new=re.split(pattern,string,0)\n",
    "print(new)"
   ]
  },
  {
   "cell_type": "code",
   "execution_count": null,
   "metadata": {},
   "outputs": [],
   "source": []
  }
 ],
 "metadata": {
  "kernelspec": {
   "display_name": "Python 3",
   "language": "python",
   "name": "python3"
  },
  "language_info": {
   "codemirror_mode": {
    "name": "ipython",
    "version": 3
   },
   "file_extension": ".py",
   "mimetype": "text/x-python",
   "name": "python",
   "nbconvert_exporter": "python",
   "pygments_lexer": "ipython3",
   "version": "3.8.10"
  }
 },
 "nbformat": 4,
 "nbformat_minor": 4
}
